{
 "cells": [
  {
   "cell_type": "markdown",
   "metadata": {},
   "source": [
    "# Inferential statistics II - Bootstrapping"
   ]
  },
  {
   "cell_type": "markdown",
   "metadata": {},
   "source": [
    "## Introduction"
   ]
  },
  {
   "cell_type": "markdown",
   "metadata": {},
   "source": [
    "In the previous frequentist mini-projects, you did frequentist calculations to perform inference from a sample of data. Such inference relies on theory largely developed from the 19th-Century onwards that is subject to certain assumptions or theoretical limits. These are fine if those assumptions hold for the particular case you're working on, and what you want to do has a known theoretical distribution (for example the mean of a sampling distribution that we looked at in the previous mini-project.)"
   ]
  },
  {
   "cell_type": "markdown",
   "metadata": {},
   "source": [
    "In this mini-project, you'll use the same medical charge data you used in the frequentist inference mini-project, but this time you'll make inferences about the population using bootstrapping (ie. simulating repeated re-runs of an experiment.) If frequentism is about using assumptions and theoretical results to calculate what we expect to happen were an experiment to be run again and again and again, then bootstrapping is about using computing power to essentially re-run the sample draw again and again and again to see what actually happens."
   ]
  },
  {
   "cell_type": "markdown",
   "metadata": {},
   "source": [
    "## Prerequisites"
   ]
  },
  {
   "cell_type": "markdown",
   "metadata": {},
   "source": [
    "While these exercises do not strictly depend on these concepts, we encourage you to complete the previous mini-projects before starting this one so that you can approach this assignment with a good understanding of frequentist concepts like:\n",
    "* the _z_-statistic\n",
    "* the _t_-statistic\n",
    "* the difference and relationship between the two\n",
    "* the Central Limit Theorem, its assumptions and consequences\n",
    "* how to estimate the population mean and standard deviation from a sample\n",
    "* the concept of a sampling distribution of a test statistic, particularly for the mean\n",
    "* how to combine these concepts to calculate confidence intervals and p-values\n",
    "* how those confidence intervals and p-values allow you to perform hypothesis (or A/B) tests"
   ]
  },
  {
   "cell_type": "markdown",
   "metadata": {},
   "source": [
    "To complete mini-project, it's important that you first complete the bootstrap resources listed in this subunit, as they contain valuable information about how to calculate bootstrap replicates of summary statistics. Having an basic understanding of what confidence intervals and p-values are will also be helpful (we touch on them in this mini-project, but please speak to your mentor or conduct individual research if you'd like to learn more.) "
   ]
  },
  {
   "cell_type": "code",
   "execution_count": 1,
   "metadata": {},
   "outputs": [],
   "source": [
    "import pandas as pd\n",
    "import numpy as np\n",
    "from numpy.random import seed\n",
    "import matplotlib.pyplot as plt"
   ]
  },
  {
   "cell_type": "markdown",
   "metadata": {},
   "source": [
    "## Medical charge data set"
   ]
  },
  {
   "cell_type": "code",
   "execution_count": 2,
   "metadata": {},
   "outputs": [],
   "source": [
    "med_charges = pd.read_csv('data/insurance2.csv')"
   ]
  },
  {
   "cell_type": "code",
   "execution_count": 3,
   "metadata": {},
   "outputs": [
    {
     "data": {
      "text/html": [
       "<div>\n",
       "<style scoped>\n",
       "    .dataframe tbody tr th:only-of-type {\n",
       "        vertical-align: middle;\n",
       "    }\n",
       "\n",
       "    .dataframe tbody tr th {\n",
       "        vertical-align: top;\n",
       "    }\n",
       "\n",
       "    .dataframe thead th {\n",
       "        text-align: right;\n",
       "    }\n",
       "</style>\n",
       "<table border=\"1\" class=\"dataframe\">\n",
       "  <thead>\n",
       "    <tr style=\"text-align: right;\">\n",
       "      <th></th>\n",
       "      <th>age</th>\n",
       "      <th>sex</th>\n",
       "      <th>bmi</th>\n",
       "      <th>children</th>\n",
       "      <th>smoker</th>\n",
       "      <th>region</th>\n",
       "      <th>charges</th>\n",
       "      <th>insuranceclaim</th>\n",
       "    </tr>\n",
       "  </thead>\n",
       "  <tbody>\n",
       "    <tr>\n",
       "      <th>0</th>\n",
       "      <td>19</td>\n",
       "      <td>0</td>\n",
       "      <td>27.900</td>\n",
       "      <td>0</td>\n",
       "      <td>1</td>\n",
       "      <td>3</td>\n",
       "      <td>16884.92400</td>\n",
       "      <td>1</td>\n",
       "    </tr>\n",
       "    <tr>\n",
       "      <th>1</th>\n",
       "      <td>18</td>\n",
       "      <td>1</td>\n",
       "      <td>33.770</td>\n",
       "      <td>1</td>\n",
       "      <td>0</td>\n",
       "      <td>2</td>\n",
       "      <td>1725.55230</td>\n",
       "      <td>1</td>\n",
       "    </tr>\n",
       "    <tr>\n",
       "      <th>2</th>\n",
       "      <td>28</td>\n",
       "      <td>1</td>\n",
       "      <td>33.000</td>\n",
       "      <td>3</td>\n",
       "      <td>0</td>\n",
       "      <td>2</td>\n",
       "      <td>4449.46200</td>\n",
       "      <td>0</td>\n",
       "    </tr>\n",
       "    <tr>\n",
       "      <th>3</th>\n",
       "      <td>33</td>\n",
       "      <td>1</td>\n",
       "      <td>22.705</td>\n",
       "      <td>0</td>\n",
       "      <td>0</td>\n",
       "      <td>1</td>\n",
       "      <td>21984.47061</td>\n",
       "      <td>0</td>\n",
       "    </tr>\n",
       "    <tr>\n",
       "      <th>4</th>\n",
       "      <td>32</td>\n",
       "      <td>1</td>\n",
       "      <td>28.880</td>\n",
       "      <td>0</td>\n",
       "      <td>0</td>\n",
       "      <td>1</td>\n",
       "      <td>3866.85520</td>\n",
       "      <td>1</td>\n",
       "    </tr>\n",
       "  </tbody>\n",
       "</table>\n",
       "</div>"
      ],
      "text/plain": [
       "   age  sex     bmi  children  smoker  region      charges  insuranceclaim\n",
       "0   19    0  27.900         0       1       3  16884.92400               1\n",
       "1   18    1  33.770         1       0       2   1725.55230               1\n",
       "2   28    1  33.000         3       0       2   4449.46200               0\n",
       "3   33    1  22.705         0       0       1  21984.47061               0\n",
       "4   32    1  28.880         0       0       1   3866.85520               1"
      ]
     },
     "execution_count": 3,
     "metadata": {},
     "output_type": "execute_result"
    }
   ],
   "source": [
    "med_charges.head()"
   ]
  },
  {
   "cell_type": "markdown",
   "metadata": {},
   "source": [
    "In the previous assignment, you used the frequentist approach to estimate the lower limit for the 95% confidence interval on the mean hospital charge. This approach relies on statistical theory that has been developed over the years and is also limited to statistics for which theoretical results on the sampling distribution exist. These results are remarkably useful and applicable much of the time and under a surprisingly wide range of conditions."
   ]
  },
  {
   "cell_type": "markdown",
   "metadata": {},
   "source": [
    "Having calculated the 95% lower confidence interval using frequentist theory in the previous exercise, you'll now use bootstrap inference to verify your calculations and check that you get consistent results without making the assumptions required before. After all, the distribution of charges really was very non-normal."
   ]
  },
  {
   "cell_type": "markdown",
   "metadata": {},
   "source": [
    "__Q:__ Use bootstrap sampling to estimate the same 95% confidence interval lower limit as before."
   ]
  },
  {
   "cell_type": "markdown",
   "metadata": {},
   "source": [
    "__A:__"
   ]
  },
  {
   "cell_type": "code",
   "execution_count": 4,
   "metadata": {},
   "outputs": [
    {
     "name": "stdout",
     "output_type": "stream",
     "text": [
      "Confidence Interval: 12724.467921704\n"
     ]
    }
   ],
   "source": [
    "np.random.seed(47)\n",
    "N_rep = 10000\n",
    "\n",
    "#Create an empty array\n",
    "mainReplicates = np.empty(N_rep)\n",
    "\n",
    "#Loop through empty array and store the mean of each random sampling\n",
    "for n in range(N_rep):\n",
    "    sample = np.random.choice(med_charges.charges, size = len(med_charges))\n",
    "    mainReplicates[n] = np.mean(sample)\n",
    "\n",
    "#Calculate 95% confidence interval\n",
    "confidenceInterval = np.percentile(mainReplicates, [5])\n",
    "print('Confidence Interval:', float(confidenceInterval))"
   ]
  },
  {
   "cell_type": "markdown",
   "metadata": {},
   "source": [
    "If you performed 10000 replicates immediately after setting the random seed to 47, you should get the value 12724 here, which compares very well with the value 12725 obtained using the _t_-distribution confidence interval previously. It is a most pleasant result to see the predictions of classical frequentist theory match with results that are now possible through the number-crunching ability of computers."
   ]
  },
  {
   "cell_type": "markdown",
   "metadata": {},
   "source": [
    "Remember, in the previous mini-projects, we saw that there are two ways of performing a _t_-test from a sample, depending on whether we can assume the groups have equal variance or not. We can actually easily test this using the bootstrap approach!"
   ]
  },
  {
   "cell_type": "markdown",
   "metadata": {},
   "source": [
    "__Q:__ Calculate the 95% confidence interval for the difference between the standard deviations of insurance and non-insurance claim charges (insured - non-insured). Calculate the differences over 10000 replicates. Plot the histogram of values and mark the locations of the percentiles. State the null and alternative hypothesis and comment on whether you would retain or reject the null hypothesis in this case and why."
   ]
  },
  {
   "cell_type": "markdown",
   "metadata": {},
   "source": [
    "__A:__ Null Hypothesis: When there is on difference in standard deviations. Alternative: There is a difference between insured and non-insured groups."
   ]
  },
  {
   "cell_type": "code",
   "execution_count": 5,
   "metadata": {},
   "outputs": [],
   "source": [
    "#insurance claimed = 1; un-insured claimed = 0\n",
    "insclaimed = med_charges.loc[med_charges.insuranceclaim == 1]\n",
    "insunclaimed = med_charges.loc[med_charges.insuranceclaim == 0]"
   ]
  },
  {
   "cell_type": "code",
   "execution_count": 6,
   "metadata": {},
   "outputs": [],
   "source": [
    "np.random.seed(47)\n",
    "\n",
    "#Create an empty array\n",
    "insclaimedReplicates = np.empty(N_rep)\n",
    "\n",
    "#Loop through empty array and store the mean of each random sampling\n",
    "for n in range(N_rep):\n",
    "    sample = np.random.choice(insclaimed.charges, size = len(insclaimed))\n",
    "    insclaimedReplicates[n] = np.mean(sample)\n",
    "\n",
    "#Calculate 95% confidence interval\n",
    "insclaimedconfidenceInterval = np.percentile(insclaimedReplicates, [5])\n",
    "#print('Confidence Interval:', insclaimedconfidenceInterval)"
   ]
  },
  {
   "cell_type": "code",
   "execution_count": 7,
   "metadata": {},
   "outputs": [],
   "source": [
    "np.random.seed(47)\n",
    "\n",
    "#Create an empty array\n",
    "insunclaimedReplicates = np.empty(N_rep)\n",
    "\n",
    "#Loop through empty array and store the mean of each random sampling\n",
    "for n in range(N_rep):\n",
    "    sample = np.random.choice(insunclaimed.charges, size = len(insunclaimed))\n",
    "    insunclaimedReplicates[n] = np.mean(sample)\n",
    "\n",
    "#Calculate 95% confidence interval\n",
    "insunclaimedconfidenceInterval = np.percentile(insunclaimedReplicates, [5])\n",
    "#print('Confidence Interval:', insunclaimedconfidenceInterval)"
   ]
  },
  {
   "cell_type": "code",
   "execution_count": 8,
   "metadata": {
    "scrolled": true
   },
   "outputs": [],
   "source": [
    "#print(insclaimedReplicates)\n",
    "#print(insunclaimedReplicates)\n",
    "DifferenceWithReplicates = insclaimedReplicates - insunclaimedReplicates\n",
    "#print(DifferenceWithReplicates)"
   ]
  },
  {
   "cell_type": "code",
   "execution_count": 9,
   "metadata": {},
   "outputs": [
    {
     "data": {
      "image/png": "[encoded data removed]",
      "text/plain": [
       "<Figure size 1152x720 with 1 Axes>"
      ]
     },
     "metadata": {
      "needs_background": "light"
     },
     "output_type": "display_data"
    }
   ],
   "source": [
    "DifferenceSeries = pd.Series(DifferenceWithReplicates)\n",
    "DifferenceSeries.hist(bins=30, grid=False, figsize=(16,10), xlabelsize=20, ylabelsize=20, edgecolor='black')\n",
    "\n",
    "#Labels\n",
    "plt.xlabel(\"Dollars\", fontsize=25)\n",
    "plt.ylabel(\"Frequency\",fontsize=25)\n",
    "\n",
    "#Graphing Lines\n",
    "plt.axvline(np.percentile(DifferenceSeries, [97.5]), linestyle = \"dashed\", linewidth = \"3\", color=\"red\", label=\"2.5%\")\n",
    "plt.axvline(DifferenceSeries.mean(), linestyle = \"dashed\", linewidth = \"3\", color=\"orange\", label=\"mean\")\n",
    "plt.axvline(np.percentile(DifferenceSeries, [2.5]), linestyle = \"dashed\", linewidth = \"3\", color=\"red\", label=\"97.5%\")\n",
    "plt.legend(loc='upper right')\n",
    "plt.show()"
   ]
  },
  {
   "cell_type": "code",
   "execution_count": 10,
   "metadata": {},
   "outputs": [
    {
     "name": "stdout",
     "output_type": "stream",
     "text": [
      "95% Confidence Interval: [ 6508.1715 , 8735.3143 ]\n"
     ]
    }
   ],
   "source": [
    "confidence_interval = np.percentile(DifferenceSeries, [2.5, 97.5]) # 95% \n",
    "lower_interval, upper_interval = confidence_interval\n",
    "print(\"95% Confidence Interval:\", \"[\", round(lower_interval,4), \",\", round(upper_interval,4) , \"]\")"
   ]
  },
  {
   "cell_type": "markdown",
   "metadata": {},
   "source": [
    "__Explanation__: The 95% of the standard deviation values reside from 6508 to 8736 which does not contain 0. The value 0 signifies that there is no difference, and therefore, we must reject the null hypothesis because there is a significant statistical difference."
   ]
  },
  {
   "cell_type": "markdown",
   "metadata": {},
   "source": [
    "## Confidence interval and p-value"
   ]
  },
  {
   "cell_type": "markdown",
   "metadata": {},
   "source": [
    "The confidence interval above is often a useful quantity to estimate. If we wish to limit our expected probability of making a Type I error (where we wrongly reject the null hypothesis, and it is, instead, true) to $\\alpha$, the associated confidence interval is our estimate of the interval within which we expect the true population value to be found $100\\times(1 - \\alpha)$% of the time we do this test. In the above we performed bootstrap replicates to estimate the interval and reject the null hypothesis if this interval did not contain zero. You will sometimes see such an interval reported in the output of statistical functions.\n",
    "\n",
    "The partner of the confidence interval is the p-value. The p-value and the confidence interval are linked through our choice of $\\alpha$. The p-value tells us how likely it is, under the null hypothesis, to get an outcome at least as extreme as what was observed. If this fails to reach the level of our _pre-specified_ $\\alpha$, we decide the null hypothesis is sufficiently unlikely to be true and thus reject it. To calculate this p-value via the bootstrap, we have to put ourselves in a position where we are simulating the null hypothesis being true and then calculate the fraction of times we observe a result at least as extreme as that actually observed.\n",
    "\n",
    "Remember how, previously, you used the _t_-test to calculate the p-value for the observed difference between the means of insured and non-insured medical cases. We're now going to repeat this, this time using the bootstrap approach.\n",
    "\n",
    "__Q:__ Perform a bootstrapped hypothesis test at the 5% significance level ($\\alpha = 0.05$) to calculate the p-value of the observed difference between insurance and non-insurance charges, state your null and alternative hypotheses and whether you retain or reject the null hypothesis for the given significance level."
   ]
  },
  {
   "cell_type": "markdown",
   "metadata": {},
   "source": [
    "__A:__ Once More, we will be using the same idea. Null Hypothesis is the boring, no difference hypothesis. The alternative hypothesis signifies that there is a statistical difference. Using the test statistic, populations that are identical should have the same mean for charges. Therefore, the difference should once again be 0 for the null hypothesis.\n",
    "\n",
    "In order to do a two-sample bootstrap test, both insurance and noninsurance values need to be shifted by the same mean. "
   ]
  },
  {
   "cell_type": "code",
   "execution_count": 21,
   "metadata": {},
   "outputs": [
    {
     "name": "stdout",
     "output_type": "stream",
     "text": [
      "13270.422265141257\n",
      "7602.506384231372\n"
     ]
    }
   ],
   "source": [
    "#insclaimed, insunclaimed values\n",
    "insclaimed_charges = insclaimed.charges.values\n",
    "insunclaimed_charges = insunclaimed.charges.values\n",
    "\n",
    "concatenated_diff = np.mean(np.concatenate((insclaimed.charges, insunclaimed.charges)))\n",
    "difference_of_charges = np.mean(insclaimed_charges) - np.mean(insunclaimed_charges)\n",
    "\n",
    "print(concatenated_diff)\n",
    "print(difference_of_charges)"
   ]
  },
  {
   "cell_type": "code",
   "execution_count": 23,
   "metadata": {},
   "outputs": [],
   "source": [
    "original_mean_charges = np.mean(med_charges.charges)\n",
    "\n",
    "# Generate shifted arrays by subtracting the means and adding the means of both data sets\n",
    "insclaimed_shifted = insclaimed_charges - np.mean(insclaimed_charges) + concatenated_diff\n",
    "insunclaimed_shifted = insunclaimed_charges - np.mean(insunclaimed_charges) + concatenated_diff\n",
    "\n",
    "#shifted_differences = insclaimed_shifted - insunclaimed_shifted\n",
    "#print(insclaimed_shifted, insunclaimed_shifted)"
   ]
  },
  {
   "cell_type": "code",
   "execution_count": 24,
   "metadata": {},
   "outputs": [
    {
     "name": "stdout",
     "output_type": "stream",
     "text": [
      "[12454.38321134]\n"
     ]
    }
   ],
   "source": [
    "np.random.seed(47)\n",
    "\n",
    "#Create an empty array\n",
    "insclaimedShiftedReplicates = np.empty(N_rep)\n",
    "\n",
    "#Loop through empty array and store the mean of each random sampling\n",
    "for n in range(N_rep):\n",
    "    sample = np.random.choice(insclaimed_shifted, size = len(insclaimed_shifted))\n",
    "    insclaimedShiftedReplicates[n] = np.mean(sample)\n",
    "\n",
    "#Calculate 95% confidence interval\n",
    "insclaimedShiftedconfidenceInterval = np.percentile(insclaimedShiftedReplicates, [5])\n",
    "print(insclaimedShiftedconfidenceInterval)"
   ]
  },
  {
   "cell_type": "code",
   "execution_count": 25,
   "metadata": {},
   "outputs": [],
   "source": [
    "np.random.seed(47)\n",
    "\n",
    "#Create an empty array\n",
    "insunclaimedShiftedReplicates = np.empty(N_rep)\n",
    "\n",
    "#Loop through empty array and store the mean of each random sampling\n",
    "for n in range(N_rep):\n",
    "    sample = np.random.choice(insunclaimed_shifted, size = len(insunclaimed_shifted))\n",
    "    insunclaimedShiftedReplicates[n] = np.mean(sample)\n",
    "\n",
    "#Calculate 95% confidence interval\n",
    "insunclaimedShiftedconfidenceInterval = np.percentile(insunclaimedShiftedReplicates, [5])"
   ]
  },
  {
   "cell_type": "code",
   "execution_count": 15,
   "metadata": {},
   "outputs": [
    {
     "name": "stdout",
     "output_type": "stream",
     "text": [
      "Observed Differences: 7602.506384231368\n",
      "p-value = 0.0\n"
     ]
    }
   ],
   "source": [
    "#difference of means\n",
    "Shifted_Replicates_Diff = insclaimedShiftedReplicates - insunclaimedShiftedReplicates\n",
    "observed_diffs = np.mean(insclaimed.charges) - np.mean(insunclaimed.charges)\n",
    "print('Observed Differences:', observed_diffs)\n",
    "\n",
    "# Compute and print p-value\n",
    "p_value = np.sum(Shifted_Replicates_Diff >= observed_diffs) / len(Shifted_Replicates_Diff)\n",
    "\n",
    "print('p-value =', p_value)"
   ]
  },
  {
   "cell_type": "markdown",
   "metadata": {},
   "source": [
    "__Q:__ To put the above result in perspective, plot the histogram of your bootstrapped differences along with lines marking the locations of the observed difference. (Why would we plot more than one line, given that we only have one observed difference?)"
   ]
  },
  {
   "cell_type": "markdown",
   "metadata": {},
   "source": [
    "__A:__ Just like there is a confidence interval at 2.5 and 97.5, two lines are graphed because there can be two tails or two ends for the possibilities where the values deviate from the mean."
   ]
  },
  {
   "cell_type": "code",
   "execution_count": 28,
   "metadata": {},
   "outputs": [
    {
     "data": {
      "image/png": "[encoded data removed]",
      "text/plain": [
       "<Figure size 864x576 with 1 Axes>"
      ]
     },
     "metadata": {
      "needs_background": "light"
     },
     "output_type": "display_data"
    }
   ],
   "source": [
    "plt.figure(figsize=(12,8))\n",
    "\n",
    "#plt.hist(insclaimedShiftedReplicates, bins=20, label=\"Insured Means\")\n",
    "#plt.hist(insunclaimedShiftedReplicates, bins=20, label=\"Non-insuranced Means\")\n",
    "plt.hist(Shifted_Replicates_Diff, bins=20, label=\"Mean Differences\")\n",
    "plt.xlabel(\"Dollars\", fontsize=15)\n",
    "plt.ylabel(\"Frequency\",fontsize=15)\n",
    "plt.axvline(observed_diffs, label=\"Observed Differences\")\n",
    "plt.axvline(np.percentile(Shifted_Replicates_Diff, 97.5), linestyle = \"dashed\", linewidth = \"3\", color=\"red\", label=\"97.5%\")\n",
    "plt.axvline(Shifted_Replicates_Diff.mean(), linestyle = \"dashed\", linewidth = \"3\", color=\"orange\", label=\"mean\")\n",
    "plt.axvline(np.percentile(Shifted_Replicates_Diff, [2.5]), linestyle = \"dashed\", linewidth = \"3\", color=\"red\", label=\"97.5%\")\n",
    "\n",
    "\n",
    "\n",
    "plt.legend(loc='best')\n",
    "plt.show()"
   ]
  },
  {
   "cell_type": "markdown",
   "metadata": {},
   "source": [
    "__Q:__ Compare your p-value above with that obtained using the _t_-test function in the previous assignment. Do you think you would want to try to perform enough bootstrap replicates to observe a random difference as large as that we did observe?"
   ]
  },
  {
   "cell_type": "markdown",
   "metadata": {},
   "source": [
    "__A:__ One should refrain from using larger number of bootstrap replicates such as 100 samples, based on research published in the MIS Quarterly where there is a negative effect. \"https://www.misq.org/skin/frontend/default/misq/pdf/appendices/2012/V36I3_Appendices/GoodhueResearchNoteAppendix.pdf\""
   ]
  },
  {
   "cell_type": "markdown",
   "metadata": {},
   "source": [
    "__Q:__ Consider the two variants of the _t_-test we performed in the previous assignment. Which one would you use now?"
   ]
  },
  {
   "cell_type": "markdown",
   "metadata": {},
   "source": [
    "__A:__ Welch's Test"
   ]
  },
  {
   "cell_type": "markdown",
   "metadata": {},
   "source": [
    "__Q:__ If, instead of being asked whether the means of two groups were different, you were working with an ad-recommender team who wanted to release a new recommendation algorithm, and you were looking at click-through rate both for the current algorithm (call it A) and from trials of their new algorithm (call it B), would you perform a two-sided test as above? What would be your null and alternative hypotheses and what would be the real-world consequence of rejecting the null hypothesis?"
   ]
  },
  {
   "cell_type": "markdown",
   "metadata": {},
   "source": [
    "__A:__ I would use a Permutation Test to see if there is a difference or not initially. If it is easier due to most apps, an A/B test can be performed. The null hypothesis would deal with no change from the hypothesis, and the alternative would be there is change with the algorithm. In the real world, the team could falsely incorporate the algorithm which would lead to a type II error, or the team could falsely disregard the algorithm which would lead to a type I error. Either one would lead to a waste of resources, time, and possible failure in the department."
   ]
  },
  {
   "cell_type": "markdown",
   "metadata": {},
   "source": [
    "# Learning outcomes\n",
    "\n",
    "You've previously applied frequentist methods to calculate confidence intervals, p-values, and perform hypothesis tests. Frequentist methods use theoretical results to calculate what we expect would happen if experiments were to be run again and again and again. Now you've seen how you can do the same things using the bootstrap approach, which does not rely on such theory, and attendant assumptions, but instead literally does run experiments again and again and again.\n",
    "\n",
    "In these exercises, you have:\n",
    "* calculated the same confidence interval lower limit as you did previously\n",
    "* tested the assumption that the variances of the two groups (insured vs. non-insured) were equal - something a bit harder to do using the frequentist method because of the nature of the sampling distribution for variance\n",
    "* calculated the p-value for the difference between the means of the two groups and compared with the result obtained using the previous frequentist approach\n",
    "\n",
    "You are now well equipped to apply the bootstrap approach to a wide variety of problems. Just think about what conditions you wish to recreate in your simulated reruns."
   ]
  }
 ],
 "metadata": {
  "kernelspec": {
   "display_name": "Python 3",
   "language": "python",
   "name": "python3"
  },
  "language_info": {
   "codemirror_mode": {
    "name": "ipython",
    "version": 3
   },
   "file_extension": ".py",
   "mimetype": "text/x-python",
   "name": "python",
   "nbconvert_exporter": "python",
   "pygments_lexer": "ipython3",
   "version": "3.8.3"
  }
 },
 "nbformat": 4,
 "nbformat_minor": 4
}
